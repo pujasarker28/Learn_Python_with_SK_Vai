{
 "cells": [
  {
   "cell_type": "code",
   "execution_count": 6,
   "metadata": {},
   "outputs": [
    {
     "name": "stdout",
     "output_type": "stream",
     "text": [
      "7\n",
      "1\n",
      "12\n"
     ]
    }
   ],
   "source": [
    "first=4\n",
    "second=3\n",
    "print (first+second)\n",
    "print (first-second)\n",
    "print (first*second)"
   ]
  },
  {
   "cell_type": "code",
   "execution_count": 17,
   "metadata": {},
   "outputs": [
    {
     "name": "stdout",
     "output_type": "stream",
     "text": [
      "- Line- 1: Characters from no. 4 to 7. ['d', 'e', 'f', 'g']\n",
      "- Line- 2: Characters from index 1 to 4. ['b', 'c', 'd', 'e']\n",
      "- Line- 3: Print the whole list. ['a', 'b', 'c', 'd', 'e', 'f', 'g', 'h']\n"
     ]
    }
   ],
   "source": [
    "list1 = ['a','b','c','d','e','f','g','h']\n",
    "print ( \"- Line- 1: Characters from no. 4 to 7.\",   list1[3:7])\n",
    "print (\"- Line- 2: Characters from index 1 to 4.\",  list1[1:5])\n",
    "print(\"- Line- 3: Print the whole list.\", list1)"
   ]
  },
  {
   "cell_type": "code",
   "execution_count": 19,
   "metadata": {},
   "outputs": [
    {
     "name": "stdout",
     "output_type": "stream",
     "text": [
      "-3\n",
      "6\n"
     ]
    }
   ],
   "source": [
    "list2 = [1,2,3]\n",
    "list3 = [4,5,6]\n",
    "print (list2[1]-list3[1])\n",
    "print ( list2 [0]* list3 [2])"
   ]
  },
  {
   "cell_type": "code",
   "execution_count": 21,
   "metadata": {},
   "outputs": [
    {
     "name": "stdout",
     "output_type": "stream",
     "text": [
      "10\n",
      "5.0\n"
     ]
    }
   ],
   "source": [
    "list4 =['a',1,'b',2,'c',3,5,6,3,7]\n",
    "print (len(list4))\n",
    "print((len(list4))/2)"
   ]
  },
  {
   "cell_type": "code",
   "execution_count": 2,
   "metadata": {},
   "outputs": [
    {
     "name": "stdout",
     "output_type": "stream",
     "text": [
      "[[1, 2, 3, 4, 5, 6], [8, 6, 6, 4, 4], [1, 3, 4, 5, 6, 7]]\n",
      "\n",
      "\n",
      "\n",
      "17\n"
     ]
    }
   ],
   "source": [
    "list5 = [[1,2,3,4,5,6],[8,6,6,4,4],[1,3,4,5,6,7]]\n",
    "print(list5)\n",
    "print(\"\"\"\n",
    "\n",
    "\"\"\")\n",
    "\n",
    "\n",
    "print((len(list5[0]))+(len(list5[1]))+(len(list5[2])))"
   ]
  },
  {
   "cell_type": "code",
   "execution_count": 3,
   "metadata": {},
   "outputs": [
    {
     "name": "stdout",
     "output_type": "stream",
     "text": [
      "3\n"
     ]
    }
   ],
   "source": [
    "print(len(list5))"
   ]
  },
  {
   "cell_type": "code",
   "execution_count": 5,
   "metadata": {},
   "outputs": [
    {
     "data": {
      "text/plain": [
       "[1, 2, 3, 4, 5, 6]"
      ]
     },
     "execution_count": 5,
     "metadata": {},
     "output_type": "execute_result"
    }
   ],
   "source": [
    "list5[0]"
   ]
  },
  {
   "cell_type": "code",
   "execution_count": null,
   "metadata": {},
   "outputs": [],
   "source": []
  }
 ],
 "metadata": {
  "kernelspec": {
   "display_name": "Python 3",
   "language": "python",
   "name": "python3"
  },
  "language_info": {
   "codemirror_mode": {
    "name": "ipython",
    "version": 3
   },
   "file_extension": ".py",
   "mimetype": "text/x-python",
   "name": "python",
   "nbconvert_exporter": "python",
   "pygments_lexer": "ipython3",
   "version": "3.7.3"
  }
 },
 "nbformat": 4,
 "nbformat_minor": 2
}
